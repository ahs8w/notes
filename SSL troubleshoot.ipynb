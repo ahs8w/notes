{
 "cells": [
  {
   "cell_type": "code",
   "execution_count": 1,
   "metadata": {
    "ExecuteTime": {
     "end_time": "2022-12-02T21:07:13.534999Z",
     "start_time": "2022-12-02T21:07:13.466706Z"
    }
   },
   "outputs": [],
   "source": [
    "import urllib.request, certifi, requests"
   ]
  },
  {
   "cell_type": "code",
   "execution_count": null,
   "metadata": {
    "ExecuteTime": {
     "end_time": "2022-12-02T20:45:42.372489Z",
     "start_time": "2022-12-02T20:45:42.208240Z"
    }
   },
   "outputs": [],
   "source": [
    "!python --version"
   ]
  },
  {
   "cell_type": "code",
   "execution_count": 5,
   "metadata": {
    "ExecuteTime": {
     "end_time": "2022-12-02T21:02:48.443404Z",
     "start_time": "2022-12-02T21:02:48.440860Z"
    }
   },
   "outputs": [
    {
     "name": "stdout",
     "output_type": "stream",
     "text": [
      "/opt/anaconda3/lib/python3.8/site-packages/certifi/cacert.pem\n"
     ]
    }
   ],
   "source": [
    "print(certifi.where())"
   ]
  },
  {
   "cell_type": "code",
   "execution_count": null,
   "metadata": {
    "ExecuteTime": {
     "end_time": "2022-11-30T22:06:44.780487Z",
     "start_time": "2022-11-30T22:06:38.102168Z"
    }
   },
   "outputs": [],
   "source": [
    "# !pip install certifi --upgrade"
   ]
  },
  {
   "cell_type": "code",
   "execution_count": 2,
   "metadata": {
    "ExecuteTime": {
     "end_time": "2022-12-02T21:07:18.228941Z",
     "start_time": "2022-12-02T21:07:17.572967Z"
    }
   },
   "outputs": [
    {
     "data": {
      "text/plain": [
       "<Response [200]>"
      ]
     },
     "execution_count": 2,
     "metadata": {},
     "output_type": "execute_result"
    }
   ],
   "source": [
    "requests.get('https://wikipedia.org', verify=True)"
   ]
  },
  {
   "cell_type": "code",
   "execution_count": null,
   "metadata": {
    "ExecuteTime": {
     "end_time": "2022-12-01T16:07:47.158516Z",
     "start_time": "2022-12-01T16:07:46.874762Z"
    }
   },
   "outputs": [],
   "source": [
    "URL = 'https://www.wikipedia.org'\n",
    "print('Trying urllib.request.urlopen().') \n",
    "r = urllib.request.urlopen(URL)\n",
    "print(f'urllib.request.urlopen\\n================\\n {r.read()[:80]}')\n",
    "print('Trying requests.get().') \n",
    "r = requests.get(URL)\n",
    "print(f'requests.get()\\n================\\n {r.text[:80]}')"
   ]
  },
  {
   "cell_type": "code",
   "execution_count": null,
   "metadata": {
    "ExecuteTime": {
     "end_time": "2022-11-30T21:46:15.074480Z",
     "start_time": "2022-11-30T21:46:15.072362Z"
    }
   },
   "outputs": [],
   "source": [
    "import wikipediaapi"
   ]
  },
  {
   "cell_type": "code",
   "execution_count": null,
   "metadata": {
    "ExecuteTime": {
     "end_time": "2022-11-30T21:46:15.380943Z",
     "start_time": "2022-11-30T21:46:15.378427Z"
    }
   },
   "outputs": [],
   "source": [
    "wiki = wikipediaapi.Wikipedia('en')"
   ]
  },
  {
   "cell_type": "code",
   "execution_count": null,
   "metadata": {
    "ExecuteTime": {
     "end_time": "2022-11-30T21:46:15.927251Z",
     "start_time": "2022-11-30T21:46:15.741654Z"
    }
   },
   "outputs": [],
   "source": [
    "wiki.page(\"coronavirus\").text"
   ]
  },
  {
   "cell_type": "code",
   "execution_count": null,
   "metadata": {
    "ExecuteTime": {
     "end_time": "2022-11-30T21:44:52.796856Z",
     "start_time": "2022-11-30T21:44:52.793047Z"
    }
   },
   "outputs": [],
   "source": [
    "import os\n",
    "import ssl                                        \n",
    "openssl_dir, openssl_cafile = os.path.split(      \n",
    "    ssl.get_default_verify_paths().openssl_cafile)\n",
    "# no content in this folder\n",
    "os.listdir(openssl_dir)\n",
    "# non existent file\n",
    "print(os.path.exists(os.path.join(openssl_dir, openssl_cafile)))"
   ]
  },
  {
   "cell_type": "code",
   "execution_count": null,
   "metadata": {
    "ExecuteTime": {
     "end_time": "2022-11-30T21:44:56.164257Z",
     "start_time": "2022-11-30T21:44:56.155429Z"
    }
   },
   "outputs": [],
   "source": [
    "import certifi\n",
    "certifi.where()"
   ]
  },
  {
   "cell_type": "code",
   "execution_count": null,
   "metadata": {
    "ExecuteTime": {
     "end_time": "2022-11-30T21:45:05.610039Z",
     "start_time": "2022-11-30T21:45:05.253828Z"
    }
   },
   "outputs": [],
   "source": [
    "import ssl\n",
    "import certifi\n",
    "from urllib.request import urlopen\n",
    "\n",
    "request = \"https://wikipedia.com\"\n",
    "urlopen(request, context=ssl.create_default_context(cafile=certifi.where()))"
   ]
  },
  {
   "cell_type": "code",
   "execution_count": null,
   "metadata": {
    "ExecuteTime": {
     "end_time": "2022-11-23T19:32:30.713135Z",
     "start_time": "2022-11-23T19:32:30.706019Z"
    }
   },
   "outputs": [],
   "source": [
    "ssl."
   ]
  },
  {
   "cell_type": "code",
   "execution_count": null,
   "metadata": {
    "ExecuteTime": {
     "end_time": "2022-11-30T21:45:58.372453Z",
     "start_time": "2022-11-30T21:45:58.363672Z"
    }
   },
   "outputs": [],
   "source": [
    "import os\n",
    "import os.path\n",
    "import ssl\n",
    "import stat\n",
    "import subprocess\n",
    "import sys\n",
    "\n",
    "STAT_0o775 = ( stat.S_IRUSR | stat.S_IWUSR | stat.S_IXUSR\n",
    "             | stat.S_IRGRP | stat.S_IWGRP | stat.S_IXGRP\n",
    "             | stat.S_IROTH |                stat.S_IXOTH )\n",
    "\n",
    "\n",
    "\n",
    "openssl_dir, openssl_cafile = os.path.split(\n",
    "    ssl.get_default_verify_paths().openssl_cafile)\n",
    "\n",
    "# +++> if already done  <----\n",
    "#print(\" -- pip install --upgrade certifi\")\n",
    "#subprocess.check_call([sys.executable,\n",
    "#    \"-E\", \"-s\", \"-m\", \"pip\", \"install\", \"--upgrade\", \"certifi\"])\n",
    "\n",
    "import certifi\n",
    "# change working directory to the default SSL directory\n",
    "os.chdir(openssl_dir)\n",
    "relpath_to_certifi_cafile = os.path.relpath(certifi.where())\n",
    "print(\" -- removing any existing file or link\")\n",
    "try:\n",
    "    os.remove(openssl_cafile)\n",
    "except FileNotFoundError:\n",
    "    pass\n",
    "print(\" -- creating symlink to certifi certificate bundle\")\n",
    "os.symlink(relpath_to_certifi_cafile, openssl_cafile)\n",
    "print(\" -- setting permissions\")\n",
    "os.chmod(openssl_cafile, STAT_0o775)\n",
    "print(\" -- update complete\")"
   ]
  },
  {
   "cell_type": "code",
   "execution_count": null,
   "metadata": {},
   "outputs": [],
   "source": []
  }
 ],
 "metadata": {
  "kernelspec": {
   "display_name": "Python 3",
   "language": "python",
   "name": "python3"
  },
  "language_info": {
   "codemirror_mode": {
    "name": "ipython",
    "version": 3
   },
   "file_extension": ".py",
   "mimetype": "text/x-python",
   "name": "python",
   "nbconvert_exporter": "python",
   "pygments_lexer": "ipython3",
   "version": "3.8.5"
  },
  "varInspector": {
   "cols": {
    "lenName": 16,
    "lenType": 16,
    "lenVar": 40
   },
   "kernels_config": {
    "python": {
     "delete_cmd_postfix": "",
     "delete_cmd_prefix": "del ",
     "library": "var_list.py",
     "varRefreshCmd": "print(var_dic_list())"
    },
    "r": {
     "delete_cmd_postfix": ") ",
     "delete_cmd_prefix": "rm(",
     "library": "var_list.r",
     "varRefreshCmd": "cat(var_dic_list()) "
    }
   },
   "types_to_exclude": [
    "module",
    "function",
    "builtin_function_or_method",
    "instance",
    "_Feature"
   ],
   "window_display": false
  }
 },
 "nbformat": 4,
 "nbformat_minor": 4
}
